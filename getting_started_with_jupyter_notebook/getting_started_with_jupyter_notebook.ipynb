{
 "cells": [
  {
   "cell_type": "markdown",
   "metadata": {},
   "source": [
    "### Note on using Markdown\n",
    "There is [a whole section towards the end of this notebook](#Markdown) on how to do it. "
   ]
  },
  {
   "cell_type": "markdown",
   "metadata": {},
   "source": [
    "### Hello world\n",
    "Shift+Enter within a cell to run it."
   ]
  },
  {
   "cell_type": "code",
   "execution_count": 2,
   "metadata": {},
   "outputs": [
    {
     "name": "stdout",
     "output_type": "stream",
     "text": [
      "First\n"
     ]
    }
   ],
   "source": [
    "print('First')"
   ]
  },
  {
   "cell_type": "markdown",
   "metadata": {},
   "source": [
    "### nbextensions - nifty Jupyter Notebook extensions"
   ]
  },
  {
   "cell_type": "markdown",
   "metadata": {},
   "source": [
    "Install <i>[nbextensions](https://www.codegrepper.com/code-examples/shell/installing+hinterland+for+jupyter+without+anaconda)</i> and [enable Variable Inspector (one of the extensions)](https://jupyter-contrib-nbextensions.readthedocs.io/en/latest/install.html#enabling-disabling-extensions). Take a brief look at the [Variable Inspector](https://jupyter-contrib-nbextensions.readthedocs.io/en/latest/nbextensions/varInspector/README.html) description and demo. Then run the next cell and inspect the variables by clicking the Variable Inspector button on the toolbar (next to the keyboard-like button).\n",
    "\n",
    "See [here](https://towardsdatascience.com/12-jupyter-notebook-extensions-that-will-make-your-life-easier-e0aae0bd181) for a list of useful <i>nbextensions</i> with explanations."
   ]
  },
  {
   "cell_type": "code",
   "execution_count": 3,
   "metadata": {},
   "outputs": [],
   "source": [
    "x = 5\n",
    "a = 1\n",
    "m = 2"
   ]
  },
  {
   "cell_type": "markdown",
   "metadata": {},
   "source": [
    "### Loading and running external Python modules/files"
   ]
  },
  {
   "cell_type": "markdown",
   "metadata": {},
   "source": [
    "For example:<br>\n",
    "`%load functions.py`"
   ]
  },
  {
   "cell_type": "code",
   "execution_count": null,
   "metadata": {},
   "outputs": [],
   "source": [
    "# This will work HERE only after the Python module that defines it (functions.py) is loaded and run (see the next cell).\n",
    "use_all_categories_of_args('Woodstock', 'Jimi Hendrix', 'Jefferson Airplane', place='Bethel', state='NY')"
   ]
  },
  {
   "cell_type": "code",
   "execution_count": null,
   "metadata": {},
   "outputs": [],
   "source": [
    "# %load functions.py\n",
    "\"\"\"Demonstrates details of writing Python functions: annotations, default args, kwargs\n",
    "\"\"\"\n",
    "\n",
    "\n",
    "# def demonstrate_annotations(festival, year=1969):\n",
    "def demonstrate_annotations(festival: str, year: int = 1969) -> str:\n",
    "    \"\"\"\n",
    "\n",
    "    :param festival: Festival name\n",
    "    :param year: Festival year\n",
    "    :return: name, year\n",
    "\n",
    "    \"\"\"\n",
    "\n",
    "    \"\"\"Demonstrates how to use annotations of function parameters/arguments and of function return type.\n",
    "    - print the function parameters/arguments\n",
    "    - print the value of the __annotations__ attribute of this function\n",
    "    - print the docstring of this function\n",
    "    - return a formatted string (including function parameters/arguments)\n",
    "    \"\"\"\n",
    "    print('festival:', festival + ',', 'year:', year)\n",
    "    print('Annotations:', demonstrate_annotations.__annotations__)\n",
    "    print()\n",
    "    print(demonstrate_annotations.__name__,\n",
    "          demonstrate_annotations.__doc__)\n",
    "    return festival + ', ' + str(year)\n",
    "\n",
    "    # # Alternatively:\n",
    "    # return(f'Just called demonstrate_annotations.__doc__(\"{festival}\", {year})')\n",
    "\n",
    "\n",
    "def show_festival(name, year=1969, location='Bethel'):\n",
    "    \"\"\"Demonstrates default arguments/parameters.\n",
    "    - print the function arguments/parameters in one line\n",
    "    \"\"\"\n",
    "\n",
    "    print(locals())\n",
    "    # print(show_festival.__dict__)\n",
    "\n",
    "    print(locals())\n",
    "    # print(show_festival.__dict__)\n",
    "\n",
    "    # # See also https://stackoverflow.com/a/12627202/1899061 :\n",
    "    # from inspect import signature, Parameter\n",
    "    # s = signature(show_festival)\n",
    "    # print(s.parameters)\n",
    "    # print([(k, v) for k, v in s.parameters.items()])\n",
    "    # print([(k, v.default)\n",
    "    #        for k, v in s.parameters.items()\n",
    "    #        if v.default is not Parameter.empty])\n",
    "\n",
    "    print(f'Festival: {name} ({year}), {location}')\n",
    "\n",
    "    # # Alternatively:\n",
    "    # print(name + ':', year, f'({location})')\n",
    "\n",
    "\n",
    "def use_flexible_arg_list(prompt: str, *headliners):\n",
    "    \"\"\"Demonstrates flexible number of arguments/parameters.\n",
    "    - print the prompt and the list of festival headliners in one line\n",
    "    \"\"\"\n",
    "\n",
    "    # headliners = list(headliners)                                 # not necessary, although improves readability\n",
    "\n",
    "    print(headliners)\n",
    "\n",
    "    # print(prompt + ':', ', '.join(headliners) + ',...')           # basic version\n",
    "    print(prompt + ':' if len(headliners) else prompt,\n",
    "          ', '.join(headliners) + ',...' if headliners else '')\n",
    "\n",
    "    # # Alternatively:\n",
    "    # print(prompt + ':' if headliners else prompt, ', '.join(headliners) + ',...' if headliners else '')\n",
    "\n",
    "\n",
    "def use_all_categories_of_args(prompt, *headliners, year=1969, **location_details):\n",
    "    \"\"\"Demonstrates positional args, flexible args, keyword args, and kwargs (flexible keyword args).\n",
    "    - print all arguments/parameters, including the keyword arguments/parameters, in one line\n",
    "    \"\"\"\n",
    "\n",
    "    print(location_details)\n",
    "    print(headliners)\n",
    "    print()\n",
    "\n",
    "    print(prompt, '(' + str(year) + '):',\n",
    "          ', '.join(headliners) + ',...' if headliners else '[headliners not specified]',\n",
    "          '(' + ', '.join([v for k, v in location_details.items()]) + ')' if location_details else '')\n",
    "\n",
    "    # # Alternatively (breaking the whole string in pieces for better focus, and joining them together eventually):\n",
    "    # prompt_part = f'{prompt}:' if headliners else f'{prompt}'\n",
    "    # headliners_part = ', '.join(headliners) + ',...' if headliners else '[no headliners specified]'\n",
    "    # year_part = f'({year};' if location_details else f'({year}' if location_details else f'({year})'\n",
    "    # location_details_part = ', '.join([v for v in location_details.values()]) + ')' if location_details else ''\n",
    "    # print(prompt_part, headliners_part, year_part, location_details_part)\n",
    "\n",
    "\n",
    "if __name__ == \"__main__\":\n",
    "\n",
    "    # print(demonstrate_annotations('Monterey Pop', 1967))\n",
    "    # print()\n",
    "    # print(demonstrate_annotations('Woodstock'))\n",
    "    # print()\n",
    "\n",
    "    # show_festival('Woodstock')\n",
    "    # show_festival('Monterey Pop', year=1967, location='Monterey, CA')\n",
    "    # print()\n",
    "\n",
    "    # use_flexible_arg_list('Woodstock', 'Jimi Hendrix', 'Jefferson Airplane', 'Grateful Dead')\n",
    "    # use_flexible_arg_list('Woodstock')\n",
    "    # print()\n",
    "\n",
    "    use_all_categories_of_args('Woodstock', 'Jimi Hendrix', 'Jefferson Airplane', place='Bethel', state='NY')\n",
    "    use_all_categories_of_args('Woodstock')\n",
    "    use_all_categories_of_args('Woodstock', 'Jimi Hendrix', 'Jefferson Airplane')\n",
    "    use_all_categories_of_args('Woodstock', place='Bethel', state='NY')\n",
    "\n"
   ]
  },
  {
   "cell_type": "code",
   "execution_count": null,
   "metadata": {},
   "outputs": [],
   "source": [
    "# from functions import demonstrate_annotations       # necessary only if %run functions.py is not executed previously\n",
    "?demonstrate_annotations"
   ]
  },
  {
   "cell_type": "code",
   "execution_count": null,
   "metadata": {},
   "outputs": [],
   "source": [
    "%run \"Strings - counting words.py\""
   ]
  },
  {
   "cell_type": "code",
   "execution_count": null,
   "metadata": {},
   "outputs": [],
   "source": [
    "%run functions.py"
   ]
  },
  {
   "cell_type": "markdown",
   "metadata": {},
   "source": [
    "### Installing Python packages from within Jupyter Notebook"
   ]
  },
  {
   "cell_type": "code",
   "execution_count": null,
   "metadata": {},
   "outputs": [],
   "source": [
    "# triangle_hist.py imports numpy, matplotlib and seaborn.\n",
    "# If numpy, matplotlib and seaborn are not already installed, the following %run command produces an error like:\n",
    "# ModuleNotFoundError: No module named 'matplotlib' (or 'numpy', or 'seaborn')\n",
    "%run triangle_hist.py"
   ]
  },
  {
   "cell_type": "code",
   "execution_count": null,
   "metadata": {},
   "outputs": [],
   "source": [
    "# Help for %pip (run the pip package manager within the current kernel - install an external package from within Jupiter Noteb.)\n",
    "?%pip"
   ]
  },
  {
   "cell_type": "code",
   "execution_count": null,
   "metadata": {},
   "outputs": [],
   "source": [
    "%pip install numpy\n",
    "%pip install matplotlib\n",
    "%pip install seaborn"
   ]
  },
  {
   "cell_type": "code",
   "execution_count": null,
   "metadata": {},
   "outputs": [],
   "source": [
    "# Now the following % run command can be run normally\n",
    "%run triangle_hist.py"
   ]
  },
  {
   "cell_type": "code",
   "execution_count": null,
   "metadata": {},
   "outputs": [],
   "source": [
    "# Install pandas as well\n",
    "%pip install pandas"
   ]
  },
  {
   "cell_type": "code",
   "execution_count": null,
   "metadata": {},
   "outputs": [],
   "source": [
    "# This will work only after the Python module that defines it (functions.py) is loaded and run.\n",
    "use_all_categories_of_args('Woodstock', 'Jimi Hendrix', 'Jefferson Airplane', place='Bethel', state='NY')"
   ]
  },
  {
   "cell_type": "code",
   "execution_count": null,
   "metadata": {},
   "outputs": [],
   "source": [
    "# This is not necessary if %run functions.py is executed before running this cell\n",
    "from functions import demonstrate_annotations"
   ]
  },
  {
   "cell_type": "code",
   "execution_count": null,
   "metadata": {},
   "outputs": [],
   "source": [
    "demonstrate_annotations('Monterey Pop', 1967)"
   ]
  },
  {
   "cell_type": "markdown",
   "metadata": {},
   "source": [
    "### Eliminating the need to %load / %run an external Python module again if something is modified in it"
   ]
  },
  {
   "cell_type": "code",
   "execution_count": null,
   "metadata": {},
   "outputs": [],
   "source": [
    "%load_ext autoreload\n",
    "%autoreload 2"
   ]
  },
  {
   "cell_type": "markdown",
   "metadata": {},
   "source": [
    "### Magic commands"
   ]
  },
  {
   "cell_type": "code",
   "execution_count": null,
   "metadata": {},
   "outputs": [],
   "source": [
    "# Help for %lsmagic (list of all currently available magic commands)\n",
    "?%lsmagic"
   ]
  },
  {
   "cell_type": "code",
   "execution_count": null,
   "metadata": {},
   "outputs": [],
   "source": [
    "# List of all currently available magic commands\n",
    "%lsmagic"
   ]
  },
  {
   "cell_type": "code",
   "execution_count": null,
   "metadata": {},
   "outputs": [],
   "source": [
    "%%HTML\n",
    "<p>This is <i>really</i> neat!</p>"
   ]
  },
  {
   "cell_type": "markdown",
   "metadata": {},
   "source": [
    "In order to display a colored note box (i.e. to display text in a colored box) use one of the `<div>` tags from [here](https://www.ibm.com/support/knowledgecenter/en/SSGNPV_2.0.0/dsx/markd-jupyter.html). For example:"
   ]
  },
  {
   "cell_type": "code",
   "execution_count": null,
   "metadata": {},
   "outputs": [],
   "source": [
    "%%HTML\n",
    "<div class=\"alert alert-block alert-info\">\n",
    "<b>Tip:</b> Use blue boxes (alert-info) for tips and notes. \n",
    "If it’s a note, you don’t have to include the word “Note”.\n",
    "</div>"
   ]
  },
  {
   "cell_type": "markdown",
   "metadata": {},
   "source": [
    "### Help\n",
    "The Help menu in Jupyter Notebook offers links to several useful reference sites (providing help for keyboard shortcuts, markdown, Jupyter contrib nbextensions, relevant Python packages, etc.)."
   ]
  },
  {
   "cell_type": "code",
   "execution_count": null,
   "metadata": {},
   "outputs": [],
   "source": [
    "iter?"
   ]
  },
  {
   "cell_type": "code",
   "execution_count": null,
   "metadata": {},
   "outputs": [],
   "source": [
    "?iter"
   ]
  },
  {
   "cell_type": "code",
   "execution_count": null,
   "metadata": {},
   "outputs": [],
   "source": [
    "from collections import *"
   ]
  },
  {
   "cell_type": "code",
   "execution_count": null,
   "metadata": {},
   "outputs": [],
   "source": [
    "# This will not work prior to running: \n",
    "# from collections import OrderedDict\n",
    "OrderedDict?"
   ]
  },
  {
   "cell_type": "code",
   "execution_count": null,
   "metadata": {},
   "outputs": [],
   "source": [
    "# This will not work prior to running: \n",
    "# from collections import deque\n",
    "deque?"
   ]
  },
  {
   "cell_type": "code",
   "execution_count": null,
   "metadata": {},
   "outputs": [],
   "source": [
    "# This will not work prior to running: \n",
    "# from collections import deque\n",
    "?collections.deque"
   ]
  },
  {
   "cell_type": "code",
   "execution_count": null,
   "metadata": {},
   "outputs": [],
   "source": [
    "# This will not work prior to running: \n",
    "# from functions import demonstrate_annotations\n",
    "?demonstrate_annotations"
   ]
  },
  {
   "cell_type": "code",
   "execution_count": null,
   "metadata": {},
   "outputs": [],
   "source": [
    "# If you used pip or pip3 to install Jupyter Notebook, this produces:\n",
    "# ValueError: The python kernel does not appear to be a conda environment.  Please use ``%pip install`` instead.\n",
    "conda install -c conda-forge jupyter_contrib_nbextensions"
   ]
  },
  {
   "cell_type": "code",
   "execution_count": 1,
   "metadata": {},
   "outputs": [
    {
     "ename": "SyntaxError",
     "evalue": "invalid syntax. Perhaps you forgot a comma? (1461627288.py, line 2)",
     "output_type": "error",
     "traceback": [
      "\u001b[1;36m  Input \u001b[1;32mIn [1]\u001b[1;36m\u001b[0m\n\u001b[1;33m    conda update -n base -c defaults conda\u001b[0m\n\u001b[1;37m                 ^\u001b[0m\n\u001b[1;31mSyntaxError\u001b[0m\u001b[1;31m:\u001b[0m invalid syntax. Perhaps you forgot a comma?\n"
     ]
    }
   ],
   "source": [
    "# Likewise, this does not work either\n",
    "conda update -n base -c defaults conda"
   ]
  },
  {
   "cell_type": "code",
   "execution_count": 2,
   "metadata": {},
   "outputs": [
    {
     "ename": "SyntaxError",
     "evalue": "invalid syntax. Perhaps you forgot a comma? (1639211862.py, line 1)",
     "output_type": "error",
     "traceback": [
      "\u001b[1;36m  Input \u001b[1;32mIn [2]\u001b[1;36m\u001b[0m\n\u001b[1;33m    jupyter contrib nbextension install --user\u001b[0m\n\u001b[1;37m                    ^\u001b[0m\n\u001b[1;31mSyntaxError\u001b[0m\u001b[1;31m:\u001b[0m invalid syntax. Perhaps you forgot a comma?\n"
     ]
    }
   ],
   "source": [
    "jupyter contrib nbextension install --user"
   ]
  },
  {
   "cell_type": "code",
   "execution_count": null,
   "metadata": {},
   "outputs": [],
   "source": [
    "sudo -E pip install jupyter_contrib_nbextensions"
   ]
  },
  {
   "cell_type": "code",
   "execution_count": null,
   "metadata": {},
   "outputs": [],
   "source": [
    "%pip install jupyter_contrib_nbextensions"
   ]
  },
  {
   "cell_type": "code",
   "execution_count": null,
   "metadata": {},
   "outputs": [],
   "source": [
    "# This does not work\n",
    "%pip install conda"
   ]
  },
  {
   "cell_type": "code",
   "execution_count": null,
   "metadata": {},
   "outputs": [],
   "source": [
    "from collections import OrderedDict"
   ]
  },
  {
   "cell_type": "markdown",
   "metadata": {},
   "source": [
    "### Markdown\n",
    "Most frequently used markdown commands:\n",
    "\n",
    "\n",
    "\n",
    "# Markdown heading, level 1\n",
    "## Markdown heading, level 2\n",
    "### Markdown heading, level 3 (if you ever need it)\n",
    "Plain text, with some **bold** and some *italic* pieces, as well as with some bullet points:\n",
    "* bullet point 1\n",
    "* bullet point 2\n",
    "* ...\n",
    "\n",
    "Always separate the last bullet point from the next paragraph with an empty line.\n",
    "\n",
    "A numbered list:\n",
    "1. item 1\n",
    "2. item 2\n",
    "3. ...\n",
    "\n",
    "Always separate the last item from the next paragraph with an empty line.\n",
    "\n",
    "To insert some inline code, surround it by ticks: `from collections import OrderedDict`. For a multiple-line code fragment, use triple ticks to surround it:\n",
    "\n",
    "```\n",
    "print('First')\n",
    "print('Second')\n",
    "```\n",
    "\n",
    "To force a line break, use `<br>`:<br>\n",
    "this is the text after `<br>`.\n",
    "\n",
    ">This is an indented block. To create it, add '>' before the block text.\n",
    "\n",
    ">>This is a level 2 indented block, resulting from adding '>>' before the block text. You can also indent text blocks multiple levels down by preceding them with multiple '>'s.\n",
    "\n",
    "Backslash (\\\\) is used as the escape character, e.g. to get \\# printed you must precede \\# with \\\\.\n",
    "\n",
    "This is [an example](http://example.com/ \"Title\") inline link, and this is just a clickable inline link without a corresponding clickable text: [http://example.com/](http://example.com/)\n",
    "\n",
    "This is the link to your [home page](http://devedzic.fon.bg.ac.rs/). Do NOT put a space between the ']' and '(' characters!\n",
    "\n",
    "To link to a section within your notebook, use the following code pattern: `[Section title](#section-title)`. For the text inside the parentheses, note that it is case-sensitive and replace any spaces and special characters with a hyphen. For example, here's the link to the [Note on using Markdown](#Note-on-using-Markdown) section in the beginning of this script.\n",
    "\n",
    "This is how to insert an image from the Web:\n",
    "\n",
    "![John](https://sa.kapamilya.com/absnews/abscbnnews/media/2019/life/12/13/20191213-john-lennon.jpg)\n",
    "\n",
    "There are also other ways to add images to cells; see, e.g., [here](https://www.ibm.com/support/knowledgecenter/en/SSGNPV_2.0.0/dsx/markd-jupyter.html), section *Graphics*.\n",
    "\n",
    "To display a horizontal line, enter three or more consecutive asterisks (or three hyphens, or three underscores) on a new line.\n",
    "***\n",
    "\n",
    "To see/edit the markdown source, double-click the markdown cell. Alternatively, click somewhere in the resulting markdown text and then in the Code/Markdown/... combo box in the toolbar select Code, and then Markdown again."
   ]
  },
  {
   "cell_type": "code",
   "execution_count": null,
   "metadata": {},
   "outputs": [],
   "source": []
  }
 ],
 "metadata": {
  "kernelspec": {
   "display_name": "Python 3 (ipykernel)",
   "language": "python",
   "name": "python3"
  },
  "language_info": {
   "codemirror_mode": {
    "name": "ipython",
    "version": 3
   },
   "file_extension": ".py",
   "mimetype": "text/x-python",
   "name": "python",
   "nbconvert_exporter": "python",
   "pygments_lexer": "ipython3",
   "version": "3.10.0"
  },
  "varInspector": {
   "cols": {
    "lenName": 16,
    "lenType": 16,
    "lenVar": 40
   },
   "kernels_config": {
    "python": {
     "delete_cmd_postfix": "",
     "delete_cmd_prefix": "del ",
     "library": "var_list.py",
     "varRefreshCmd": "print(var_dic_list())"
    },
    "r": {
     "delete_cmd_postfix": ") ",
     "delete_cmd_prefix": "rm(",
     "library": "var_list.r",
     "varRefreshCmd": "cat(var_dic_list()) "
    }
   },
   "types_to_exclude": [
    "module",
    "function",
    "builtin_function_or_method",
    "instance",
    "_Feature"
   ],
   "window_display": false
  }
 },
 "nbformat": 4,
 "nbformat_minor": 2
}
