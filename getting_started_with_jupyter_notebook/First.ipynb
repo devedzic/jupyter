{
 "cells": [
  {
   "cell_type": "markdown",
   "metadata": {},
   "source": [
    "### Note on using Markdown\n",
    "There is a whole section towards the end of this notebook on how to do it."
   ]
  },
  {
   "cell_type": "markdown",
   "metadata": {},
   "source": [
    "### Hello world"
   ]
  },
  {
   "cell_type": "code",
   "execution_count": null,
   "metadata": {},
   "outputs": [],
   "source": [
    "print('First')"
   ]
  },
  {
   "cell_type": "markdown",
   "metadata": {},
   "source": [
    "### Loading and running external Python modules/files"
   ]
  },
  {
   "cell_type": "markdown",
   "metadata": {},
   "source": [
    "For example:<br>\n",
    "`%load functions.py`"
   ]
  },
  {
   "cell_type": "code",
   "execution_count": null,
   "metadata": {},
   "outputs": [],
   "source": [
    "# This will work HERE only after the Python module that defines it (functions.py) is loaded and run (see the next cell).\n",
    "use_all_categories_of_args('Woodstock', 'Jimi Hendrix', 'Jefferson Airplane', place='Bethel', state='NY')"
   ]
  },
  {
   "cell_type": "code",
   "execution_count": null,
   "metadata": {},
   "outputs": [],
   "source": [
    "# %load functions.py\n",
    "\"\"\"Demonstrates details of writing Python functions: annotations, default args, kwargs\n",
    "\"\"\"\n",
    "\n",
    "\n",
    "# def demonstrate_annotations(festival, year=1969):\n",
    "def demonstrate_annotations(festival: str, year: int = 1969) -> str:\n",
    "    \"\"\"\n",
    "\n",
    "    :param festival: Festival name\n",
    "    :param year: Festival year\n",
    "    :return: name, year\n",
    "\n",
    "    \"\"\"\n",
    "\n",
    "    \"\"\"Demonstrates how to use annotations of function parameters/arguments and of function return type.\n",
    "    - print the function parameters/arguments\n",
    "    - print the value of the __annotations__ attribute of this function\n",
    "    - print the docstring of this function\n",
    "    - return a formatted string (including function parameters/arguments)\n",
    "    \"\"\"\n",
    "    print('festival:', festival + ',', 'year:', year)\n",
    "    print('Annotations:', demonstrate_annotations.__annotations__)\n",
    "    print()\n",
    "    print(demonstrate_annotations.__name__,\n",
    "          demonstrate_annotations.__doc__)\n",
    "    return festival + ', ' + str(year)\n",
    "\n",
    "    # # Alternatively:\n",
    "    # return(f'Just called demonstrate_annotations.__doc__(\"{festival}\", {year})')\n",
    "\n",
    "\n",
    "def show_festival(name, year=1969, location='Bethel'):\n",
    "    \"\"\"Demonstrates default arguments/parameters.\n",
    "    - print the function arguments/parameters in one line\n",
    "    \"\"\"\n",
    "\n",
    "    print(locals())\n",
    "    # print(show_festival.__dict__)\n",
    "\n",
    "    print(locals())\n",
    "    # print(show_festival.__dict__)\n",
    "\n",
    "    # # See also https://stackoverflow.com/a/12627202/1899061 :\n",
    "    # from inspect import signature, Parameter\n",
    "    # s = signature(show_festival)\n",
    "    # print(s.parameters)\n",
    "    # print([(k, v) for k, v in s.parameters.items()])\n",
    "    # print([(k, v.default)\n",
    "    #        for k, v in s.parameters.items()\n",
    "    #        if v.default is not Parameter.empty])\n",
    "\n",
    "    print(f'Festival: {name} ({year}), {location}')\n",
    "\n",
    "    # # Alternatively:\n",
    "    # print(name + ':', year, f'({location})')\n",
    "\n",
    "\n",
    "def use_flexible_arg_list(prompt: str, *headliners):\n",
    "    \"\"\"Demonstrates flexible number of arguments/parameters.\n",
    "    - print the prompt and the list of festival headliners in one line\n",
    "    \"\"\"\n",
    "\n",
    "    # headliners = list(headliners)                                 # not necessary, although improves readability\n",
    "\n",
    "    print(headliners)\n",
    "\n",
    "    # print(prompt + ':', ', '.join(headliners) + ',...')           # basic version\n",
    "    print(prompt + ':' if len(headliners) else prompt,\n",
    "          ', '.join(headliners) + ',...' if headliners else '')\n",
    "\n",
    "    # # Alternatively:\n",
    "    # print(prompt + ':' if headliners else prompt, ', '.join(headliners) + ',...' if headliners else '')\n",
    "\n",
    "\n",
    "def use_all_categories_of_args(prompt, *headliners, year=1969, **location_details):\n",
    "    \"\"\"Demonstrates positional args, flexible args, keyword args, and kwargs (flexible keyword args).\n",
    "    - print all arguments/parameters, including the keyword arguments/parameters, in one line\n",
    "    \"\"\"\n",
    "\n",
    "    print(location_details)\n",
    "    print(headliners)\n",
    "    print()\n",
    "\n",
    "    print(prompt, '(' + str(year) + '):',\n",
    "          ', '.join(headliners) + ',...' if headliners else '[headliners not specified]',\n",
    "          '(' + ', '.join([v for k, v in location_details.items()]) + ')' if location_details else '')\n",
    "\n",
    "    # # Alternatively (breaking the whole string in pieces for better focus, and joining them together eventually):\n",
    "    # prompt_part = f'{prompt}:' if headliners else f'{prompt}'\n",
    "    # headliners_part = ', '.join(headliners) + ',...' if headliners else '[no headliners specified]'\n",
    "    # year_part = f'({year};' if location_details else f'({year}' if location_details else f'({year})'\n",
    "    # location_details_part = ', '.join([v for v in location_details.values()]) + ')' if location_details else ''\n",
    "    # print(prompt_part, headliners_part, year_part, location_details_part)\n",
    "\n",
    "\n",
    "if __name__ == \"__main__\":\n",
    "\n",
    "    # print(demonstrate_annotations('Monterey Pop', 1967))\n",
    "    # print()\n",
    "    # print(demonstrate_annotations('Woodstock'))\n",
    "    # print()\n",
    "\n",
    "    # show_festival('Woodstock')\n",
    "    # show_festival('Monterey Pop', year=1967, location='Monterey, CA')\n",
    "    # print()\n",
    "\n",
    "    # use_flexible_arg_list('Woodstock', 'Jimi Hendrix', 'Jefferson Airplane', 'Grateful Dead')\n",
    "    # use_flexible_arg_list('Woodstock')\n",
    "    # print()\n",
    "\n",
    "    use_all_categories_of_args('Woodstock', 'Jimi Hendrix', 'Jefferson Airplane', place='Bethel', state='NY')\n",
    "    use_all_categories_of_args('Woodstock')\n",
    "    use_all_categories_of_args('Woodstock', 'Jimi Hendrix', 'Jefferson Airplane')\n",
    "    use_all_categories_of_args('Woodstock', place='Bethel', state='NY')\n",
    "\n"
   ]
  },
  {
   "cell_type": "code",
   "execution_count": null,
   "metadata": {},
   "outputs": [],
   "source": [
    "# from functions import demonstrate_annotations       # necessary only if %run functions.py is not executed previously\n",
    "?demonstrate_annotations"
   ]
  },
  {
   "cell_type": "code",
   "execution_count": null,
   "metadata": {},
   "outputs": [],
   "source": [
    "%run \"Strings - counting words.py\""
   ]
  },
  {
   "cell_type": "code",
   "execution_count": null,
   "metadata": {},
   "outputs": [],
   "source": [
    "%run functions.py"
   ]
  },
  {
   "cell_type": "code",
   "execution_count": null,
   "metadata": {},
   "outputs": [],
   "source": [
    "%run triangle_hist.py"
   ]
  },
  {
   "cell_type": "code",
   "execution_count": null,
   "metadata": {},
   "outputs": [],
   "source": [
    "# This will work only after the Python module that defines it (functions.py) is loaded and run.\n",
    "use_all_categories_of_args('Woodstock', 'Jimi Hendrix', 'Jefferson Airplane', place='Bethel', state='NY')"
   ]
  },
  {
   "cell_type": "code",
   "execution_count": null,
   "metadata": {},
   "outputs": [],
   "source": [
    "# This is not necessary if %run functions.py is executed before running this cell\n",
    "from functions import demonstrate_annotations"
   ]
  },
  {
   "cell_type": "code",
   "execution_count": 9,
   "metadata": {},
   "outputs": [
    {
     "name": "stdout",
     "output_type": "stream",
     "text": [
      "festival: Monterey Pop, year: 1967\n",
      "Annotations: {'festival': <class 'str'>, 'year': <class 'int'>, 'return': <class 'str'>}\n",
      "\n",
      "demonstrate_annotations \n",
      "\n",
      "    :param festival: Festival name\n",
      "    :param year: Festival year\n",
      "    :return: name, year\n",
      "\n",
      "    \n"
     ]
    },
    {
     "data": {
      "text/plain": [
       "'Monterey Pop, 1967'"
      ]
     },
     "execution_count": 9,
     "metadata": {},
     "output_type": "execute_result"
    }
   ],
   "source": [
    "demonstrate_annotations('Monterey Pop', 1967)"
   ]
  },
  {
   "cell_type": "markdown",
   "metadata": {},
   "source": [
    "### Eliminating the need to %load / %run an external Python module again if something is modified in it"
   ]
  },
  {
   "cell_type": "code",
   "execution_count": null,
   "metadata": {},
   "outputs": [],
   "source": [
    "%load_ext autoreload\n",
    "%autoreload 2"
   ]
  },
  {
   "cell_type": "markdown",
   "metadata": {},
   "source": [
    "### Magic commands"
   ]
  },
  {
   "cell_type": "code",
   "execution_count": null,
   "metadata": {},
   "outputs": [],
   "source": [
    "# List of all currently available magic commands\n",
    "%lsmagic"
   ]
  },
  {
   "cell_type": "code",
   "execution_count": null,
   "metadata": {},
   "outputs": [],
   "source": [
    "%%HTML\n",
    "<p>This is <i>really</i> neat!</p>"
   ]
  },
  {
   "cell_type": "markdown",
   "metadata": {},
   "source": [
    "### Help"
   ]
  },
  {
   "cell_type": "code",
   "execution_count": null,
   "metadata": {},
   "outputs": [],
   "source": [
    "iter?"
   ]
  },
  {
   "cell_type": "code",
   "execution_count": null,
   "metadata": {},
   "outputs": [],
   "source": [
    "?iter"
   ]
  },
  {
   "cell_type": "code",
   "execution_count": null,
   "metadata": {},
   "outputs": [],
   "source": [
    "from collections import *"
   ]
  },
  {
   "cell_type": "code",
   "execution_count": null,
   "metadata": {},
   "outputs": [],
   "source": [
    "OrderedDict?"
   ]
  },
  {
   "cell_type": "code",
   "execution_count": null,
   "metadata": {},
   "outputs": [],
   "source": [
    "deque?"
   ]
  },
  {
   "cell_type": "code",
   "execution_count": null,
   "metadata": {},
   "outputs": [],
   "source": [
    "?collections.deque"
   ]
  },
  {
   "cell_type": "code",
   "execution_count": null,
   "metadata": {},
   "outputs": [],
   "source": [
    "?demonstrate_annotations"
   ]
  },
  {
   "cell_type": "code",
   "execution_count": null,
   "metadata": {},
   "outputs": [],
   "source": [
    "conda install -c conda-forge jupyter_contrib_nbextensions"
   ]
  },
  {
   "cell_type": "code",
   "execution_count": null,
   "metadata": {},
   "outputs": [],
   "source": [
    "conda update -n base -c defaults conda"
   ]
  },
  {
   "cell_type": "code",
   "execution_count": null,
   "metadata": {},
   "outputs": [],
   "source": [
    "jupyter contrib nbextension install --user"
   ]
  },
  {
   "cell_type": "code",
   "execution_count": null,
   "metadata": {},
   "outputs": [],
   "source": [
    "sudo -E pip install jupyter_contrib_nbextensions"
   ]
  },
  {
   "cell_type": "code",
   "execution_count": null,
   "metadata": {},
   "outputs": [],
   "source": [
    "from collections import OrderedDict"
   ]
  },
  {
   "cell_type": "markdown",
   "metadata": {},
   "source": [
    "### Markdown\n",
    "Most frequently used markdown commands:\n",
    "\n",
    "\n",
    "\n",
    "# Markdown heading, level 1\n",
    "## Markdown heading, level 2\n",
    "### Markdown heading, level 3 (if you ever need it)\n",
    "Plain text, with some **bold** and some *italic* pieces, as well as with some bullet points:\n",
    "* bullet point 1\n",
    "* bullet point 2\n",
    "* ...\n",
    "\n",
    "Always separate the last bullet point from the next paragraph with an empty line.\n",
    "\n",
    "A numbered list:\n",
    "1. item 1\n",
    "2. item 2\n",
    "3. ...\n",
    "\n",
    "Always separate the last item from the next paragraph with an empty line.\n",
    "\n",
    "To insert some inline code, surround it by ticks: `from collections import OrderedDict`. For a multiple-line code fragment, use triple ticks to surround it:\n",
    "\n",
    "```\n",
    "print('First')\n",
    "print('Second')\n",
    "```\n",
    "\n",
    "To force a line break, use `<br>`:<br>\n",
    "this is the text after `<br>`.\n",
    "\n",
    "This is [an example](http://example.com/ \"Title\") inline link, and this is just a clickable inline link without a corresponding clickable text: [http://example.com/](http://example.com/)\n",
    "\n",
    "This is the link to your [home page](http://devedzic.fon.bg.ac.rs/). Do NOT put a space between the ']' and '(' characters!\n",
    "\n",
    "This is how to insert an image from the Web:\n",
    "\n",
    "![John](https://sa.kapamilya.com/absnews/abscbnnews/media/2019/life/12/13/20191213-john-lennon.jpg)\n",
    "\n",
    "To see the markdown source, click somewhere in the resulting markdown text and then in the Code/Markdown/... combo box in the toolbar select Code, and then Markdown again."
   ]
  },
  {
   "cell_type": "code",
   "execution_count": null,
   "metadata": {},
   "outputs": [],
   "source": []
  }
 ],
 "metadata": {
  "kernelspec": {
   "display_name": "Python 3",
   "language": "python",
   "name": "python3"
  },
  "language_info": {
   "codemirror_mode": {
    "name": "ipython",
    "version": 3
   },
   "file_extension": ".py",
   "mimetype": "text/x-python",
   "name": "python",
   "nbconvert_exporter": "python",
   "pygments_lexer": "ipython3",
   "version": "3.7.6"
  },
  "varInspector": {
   "cols": {
    "lenName": 16,
    "lenType": 16,
    "lenVar": 40
   },
   "kernels_config": {
    "python": {
     "delete_cmd_postfix": "",
     "delete_cmd_prefix": "del ",
     "library": "var_list.py",
     "varRefreshCmd": "print(var_dic_list())"
    },
    "r": {
     "delete_cmd_postfix": ") ",
     "delete_cmd_prefix": "rm(",
     "library": "var_list.r",
     "varRefreshCmd": "cat(var_dic_list()) "
    }
   },
   "types_to_exclude": [
    "module",
    "function",
    "builtin_function_or_method",
    "instance",
    "_Feature"
   ],
   "window_display": false
  }
 },
 "nbformat": 4,
 "nbformat_minor": 2
}
